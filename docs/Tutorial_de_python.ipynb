{
  "nbformat": 4,
  "nbformat_minor": 0,
  "metadata": {
    "colab": {
      "provenance": []
    },
    "kernelspec": {
      "name": "python3",
      "display_name": "Python 3"
    },
    "language_info": {
      "name": "python"
    }
  },
  "cells": [
    {
      "cell_type": "code",
      "execution_count": null,
      "metadata": {
        "id": "QIUXojGN4VUE"
      },
      "outputs": [],
      "source": [
        "# Hola Mundo\n",
        "print(\"Hola, Mundo!\")\n",
        "\n",
        "# Operaciones matemáticas básicas\n",
        "a = 10\n",
        "b = 3\n",
        "suma = a + b\n",
        "resta = a - b\n",
        "multiplicacion = a * b\n",
        "division = a / b\n",
        "division_entera = a // b\n",
        "modulo = a % b\n",
        "potencia = a ** b\n",
        "\n",
        "print(\"Suma:\", suma)\n",
        "print(\"Resta:\", resta)\n",
        "print(\"Multiplicación:\", multiplicacion)\n",
        "print(\"División:\", division)\n",
        "print(\"División entera:\", division_entera)\n",
        "print(\"Módulo:\", modulo)\n",
        "print(\"Potencia:\", potencia)"
      ]
    },
    {
      "cell_type": "code",
      "source": [
        "# Tipos de datos básicos, como se puede observar no hay tipos definidos de variables sino que se puede utilizar según interese\n",
        "# Esto requiere un poco de esfuerzo por vuestra parte recordar para qué las usais\n",
        "\n",
        "x = 42          # entero\n",
        "y = 3.14        # flotante\n",
        "nombre = \"Juan\" # cadena\n",
        "es_verdad = True # booleano\n",
        "\n",
        "# Definir una función\n",
        "def saludo(nombre):\n",
        "    return f\"Hola, {nombre}!\"\n",
        "\n",
        "print(saludo(\"María\"))\n"
      ],
      "metadata": {
        "colab": {
          "base_uri": "https://localhost:8080/"
        },
        "id": "r-XFs4Mv5E70",
        "outputId": "3404c3ca-c7c3-4e01-f28c-d3e56c5228b2"
      },
      "execution_count": null,
      "outputs": [
        {
          "output_type": "stream",
          "name": "stdout",
          "text": [
            "Hola, María!\n"
          ]
        }
      ]
    },
    {
      "cell_type": "code",
      "source": [
        "# Condicionales\n",
        "edad = 18\n",
        "if edad >= 18:\n",
        "    print(\"Eres mayor de edad.\")\n",
        "else:\n",
        "    print(\"Eres menor de edad.\")\n",
        "\n",
        "# Bucle for\n",
        "for i in range(5):\n",
        "    print(\"Iteración:\", i)\n",
        "\n",
        "# Bucle while\n",
        "contador = 0\n",
        "while contador < 5:\n",
        "    print(\"Contador:\", contador)\n",
        "    contador += 1\n",
        "\n",
        "# Ejemplo con while-else\n",
        "contador = 0\n",
        "while contador < 5:\n",
        "    print(\"Contador:\", contador)\n",
        "    contador += 1\n",
        "else:\n",
        "    print(\"El contador ha alcanzado el límite.\")\n",
        "\n",
        "# Ejemplo con for-else\n",
        "for i in range(5):\n",
        "    print(\"Iteración:\", i)\n",
        "else:\n",
        "    print(\"El bucle for ha terminado.\")\n"
      ],
      "metadata": {
        "colab": {
          "base_uri": "https://localhost:8080/"
        },
        "id": "9LiZFecD5HkV",
        "outputId": "bec981bc-b824-49b4-edd4-742d3aa52041"
      },
      "execution_count": null,
      "outputs": [
        {
          "output_type": "stream",
          "name": "stdout",
          "text": [
            "Eres mayor de edad.\n",
            "Iteración: 0\n",
            "Iteración: 1\n",
            "Iteración: 2\n",
            "Iteración: 3\n",
            "Iteración: 4\n",
            "Contador: 0\n",
            "Contador: 1\n",
            "Contador: 2\n",
            "Contador: 3\n",
            "Contador: 4\n",
            "Contador: 0\n",
            "Contador: 1\n",
            "Contador: 2\n",
            "Contador: 3\n",
            "Contador: 4\n",
            "El contador ha alcanzado el límite.\n",
            "Iteración: 0\n",
            "Iteración: 1\n",
            "Iteración: 2\n",
            "Iteración: 3\n",
            "Iteración: 4\n",
            "El bucle for ha terminado.\n"
          ]
        }
      ]
    },
    {
      "cell_type": "code",
      "source": [
        "# Listas\n",
        "frutas = [\"manzana\", \"plátano\", \"naranja\"]\n",
        "print(\"Primera fruta:\", frutas[0])\n",
        "\n",
        "# Añadir un elemento a la lista\n",
        "frutas.append(\"uva\")\n",
        "print(\"Lista de frutas actualizada:\", frutas)\n",
        "\n",
        "# Diccionarios\n",
        "estudiante = {\"nombre\": \"Carlos\", \"edad\": 21, \"carrera\": \"Informática\"}\n",
        "print(\"Nombre del estudiante:\", estudiante[\"nombre\"])\n",
        "\n",
        "# Añadir un nuevo par clave-valor\n",
        "estudiante[\"universidad\"] = \"UAM\"\n",
        "print(\"Diccionario actualizado:\", estudiante)\n"
      ],
      "metadata": {
        "id": "0S1cY9rj5XxI",
        "colab": {
          "base_uri": "https://localhost:8080/"
        },
        "outputId": "a4ad1833-4121-4973-9642-4a4314cc0668"
      },
      "execution_count": null,
      "outputs": [
        {
          "output_type": "stream",
          "name": "stdout",
          "text": [
            "Primera fruta: manzana\n",
            "Lista de frutas actualizada: ['manzana', 'plátano', 'naranja', 'uva']\n",
            "Nombre del estudiante: Carlos\n",
            "Diccionario actualizado: {'nombre': 'Carlos', 'edad': 21, 'carrera': 'Informática', 'universidad': 'UAM'}\n"
          ]
        }
      ]
    },
    {
      "cell_type": "code",
      "source": [
        "# Función con múltiples parámetros y valores por defecto\n",
        "def calcular_area(base, altura, forma=\"triángulo\"):\n",
        "    if forma == \"triángulo\":\n",
        "        return (base * altura) / 2\n",
        "    elif forma == \"rectángulo\":\n",
        "        return base * altura\n",
        "\n",
        "print(\"Área del triángulo:\", calcular_area(10, 5))\n",
        "print(\"Área del rectángulo:\", calcular_area(10, 5, forma=\"rectángulo\"))\n"
      ],
      "metadata": {
        "id": "LhxP_JW45aEJ",
        "colab": {
          "base_uri": "https://localhost:8080/"
        },
        "outputId": "d455059d-d252-460b-d86c-138cb2271919"
      },
      "execution_count": null,
      "outputs": [
        {
          "output_type": "stream",
          "name": "stdout",
          "text": [
            "Área del triángulo: 25.0\n",
            "Área del rectángulo: 50\n"
          ]
        }
      ]
    },
    {
      "cell_type": "code",
      "source": [
        "# Definir una clase simple\n",
        "class Persona:\n",
        "    #Aqui teneis dos atributos. El self es como el this en java y siempre es el primer parámetro en los métodos de la clase\n",
        "    def __init__(self, nombre, edad):\n",
        "        self.nombre = nombre\n",
        "        self.edad = edad\n",
        "\n",
        "    def saludar(self):\n",
        "        return f\"Hola, mi nombre es {self.nombre} y tengo {self.edad} años.\"\n",
        "\n",
        "# Crear un objeto de la clase Persona\n",
        "persona1 = Persona(\"Ana\", 30)\n",
        "print(persona1.saludar())\n"
      ],
      "metadata": {
        "id": "KgtlzCl75bvb",
        "colab": {
          "base_uri": "https://localhost:8080/"
        },
        "outputId": "2fd71fb4-b34f-408d-cbb2-6c5e23c032aa"
      },
      "execution_count": null,
      "outputs": [
        {
          "output_type": "stream",
          "name": "stdout",
          "text": [
            "Hola, mi nombre es Ana y tengo 30 años.\n"
          ]
        }
      ]
    },
    {
      "cell_type": "code",
      "source": [
        "#Herencia\n",
        "\n",
        "# Clase base\n",
        "class Animal:\n",
        "    def __init__(self, nombre):\n",
        "        self.nombre = nombre\n",
        "\n",
        "    def hablar(self):\n",
        "        pass  # Método abstracto\n",
        "\n",
        "# Clase derivada (Herencia)\n",
        "class Perro(Animal):\n",
        "    def hablar(self):\n",
        "        return \"Guau guau!\"\n",
        "\n",
        "class Gato(Animal):\n",
        "    def noHacerNada(self):\n",
        "        return \"Miau miau!\"\n",
        "\n",
        "# Crear objetos de las clases derivadas\n",
        "perro = Perro(\"Firulais\")\n",
        "gato = Gato(\"Michi\")\n",
        "\n",
        "print(f\"{perro.nombre} dice: {perro.hablar()}\")\n",
        "print(f\"{gato.nombre} dice: {gato.hablar()}\") #Sale \"none\" porque coge el método del padre que tiene solo un \"pass\". Es decir, no da error como podría pasar en Java pero no devuelve nada de la clase padre (en este caso).\n"
      ],
      "metadata": {
        "id": "0Fl3m0_X5dSQ",
        "colab": {
          "base_uri": "https://localhost:8080/"
        },
        "outputId": "78723493-cb92-453f-c858-30b7ef610dc6"
      },
      "execution_count": null,
      "outputs": [
        {
          "output_type": "stream",
          "name": "stdout",
          "text": [
            "Firulais dice: Guau guau!\n",
            "Michi dice: None\n"
          ]
        }
      ]
    },
    {
      "cell_type": "code",
      "source": [
        "# Manejo básico de excepciones\n",
        "try:\n",
        "    resultado = 10 / 0\n",
        "except ZeroDivisionError:\n",
        "    print(\"Error: No se puede dividir entre cero.\")\n",
        "finally:\n",
        "    print(\"Esta línea se ejecuta siempre.\")\n"
      ],
      "metadata": {
        "id": "MVyVPZWo5gms"
      },
      "execution_count": null,
      "outputs": []
    },
    {
      "cell_type": "code",
      "source": [
        "# Importar un módulo estándar de Python\n",
        "import math\n",
        "\n",
        "# Usar funciones del módulo math\n",
        "raiz_cuadrada = math.sqrt(16)\n",
        "print(\"Raíz cuadrada de 16:\", raiz_cuadrada)\n"
      ],
      "metadata": {
        "id": "dgteI-bR5h6u"
      },
      "execution_count": null,
      "outputs": []
    },
    {
      "cell_type": "code",
      "source": [
        "# Un ejemplo un poco mas complicado y usando numpy, que lo estais usando para la fft\n",
        "import numpy as np\n",
        "\n",
        "# Crear un array unidimensional (vector)\n",
        "vector = np.array([1, 2, 3, 4, 5])\n",
        "print(\"Vector original:\")\n",
        "print(vector)\n",
        "\n",
        "# Operaciones elementales sobre arrays\n",
        "vector_doble = vector * 2\n",
        "vector_suma = vector + 10\n",
        "print(\"\\nVector multiplicado por 2:\")\n",
        "print(vector_doble)\n",
        "print(\"\\nVector sumado con 10:\")\n",
        "print(vector_suma)\n",
        "\n",
        "# Crear una matriz (array bidimensional)\n",
        "matriz = np.array([[1, 2, 3], [4, 5, 6], [7, 8, 9]])\n",
        "print(\"\\nMatriz original:\")\n",
        "print(matriz)\n",
        "\n",
        "# Operaciones con matrices\n",
        "matriz_transpuesta = np.transpose(matriz)\n",
        "matriz_inversa = np.linalg.inv(np.array([[1, 2], [3, 4]]))  # Invertir una submatriz 2x2\n",
        "producto_punto = np.dot(matriz, matriz_transpuesta)  # Producto punto entre la matriz y su transpuesta\n",
        "determinante = np.linalg.det(np.array([[1, 2], [3, 4]]))  # Determinante de una matriz 2x2\n",
        "\n",
        "print(\"\\nMatriz transpuesta:\")\n",
        "print(matriz_transpuesta)\n",
        "print(\"\\nInversa de la matriz 2x2 [[1, 2], [3, 4]]:\")\n",
        "print(matriz_inversa)\n",
        "print(\"\\nProducto punto de la matriz con su transpuesta:\")\n",
        "print(producto_punto)\n",
        "print(\"\\nDeterminante de la matriz 2x2 [[1, 2], [3, 4]]:\")\n",
        "print(determinante)\n",
        "\n",
        "# Crear arrays de números aleatorios\n",
        "numeros_aleatorios = np.random.rand(3, 3)  # Matriz 3x3 de números aleatorios entre 0 y 1\n",
        "enteros_aleatorios = np.random.randint(1, 10, size=(3, 3))  # Matriz 3x3 de enteros aleatorios\n",
        "\n",
        "print(\"\\nMatriz de números aleatorios:\")\n",
        "print(numeros_aleatorios)\n",
        "print(\"\\nMatriz de enteros aleatorios:\")\n",
        "print(enteros_aleatorios)\n",
        "\n",
        "# Aplicar funciones matemáticas de numpy\n",
        "sin_vector = np.sin(vector)  # Seno de cada elemento del vector\n",
        "log_vector = np.log(vector)  # Logaritmo natural de cada elemento del vector\n",
        "\n",
        "print(\"\\nSeno de los elementos del vector:\")\n",
        "print(sin_vector)\n",
        "print(\"\\nLogaritmo natural de los elementos del vector:\")\n",
        "print(log_vector)\n"
      ],
      "metadata": {
        "colab": {
          "base_uri": "https://localhost:8080/"
        },
        "id": "CVN5MvuOMXA1",
        "outputId": "cacca19f-46f5-426f-987a-ae0e6e8f54ec"
      },
      "execution_count": null,
      "outputs": [
        {
          "output_type": "stream",
          "name": "stdout",
          "text": [
            "Vector original:\n",
            "[1 2 3 4 5]\n",
            "\n",
            "Vector multiplicado por 2:\n",
            "[ 2  4  6  8 10]\n",
            "\n",
            "Vector sumado con 10:\n",
            "[11 12 13 14 15]\n",
            "\n",
            "Matriz original:\n",
            "[[1 2 3]\n",
            " [4 5 6]\n",
            " [7 8 9]]\n",
            "\n",
            "Matriz transpuesta:\n",
            "[[1 4 7]\n",
            " [2 5 8]\n",
            " [3 6 9]]\n",
            "\n",
            "Inversa de la matriz 2x2 [[1, 2], [3, 4]]:\n",
            "[[-2.   1. ]\n",
            " [ 1.5 -0.5]]\n",
            "\n",
            "Producto punto de la matriz con su transpuesta:\n",
            "[[ 14  32  50]\n",
            " [ 32  77 122]\n",
            " [ 50 122 194]]\n",
            "\n",
            "Determinante de la matriz 2x2 [[1, 2], [3, 4]]:\n",
            "-2.0000000000000004\n",
            "\n",
            "Matriz de números aleatorios:\n",
            "[[0.6894345  0.61269771 0.4264251 ]\n",
            " [0.46274159 0.71589204 0.21008847]\n",
            " [0.23329869 0.39612865 0.73696675]]\n",
            "\n",
            "Matriz de enteros aleatorios:\n",
            "[[1 7 1]\n",
            " [3 8 4]\n",
            " [5 9 3]]\n",
            "\n",
            "Seno de los elementos del vector:\n",
            "[ 0.84147098  0.90929743  0.14112001 -0.7568025  -0.95892427]\n",
            "\n",
            "Logaritmo natural de los elementos del vector:\n",
            "[0.         0.69314718 1.09861229 1.38629436 1.60943791]\n"
          ]
        }
      ]
    },
    {
      "cell_type": "code",
      "source": [
        "# Escribir en un archivo\n",
        "with open(\"archivo_ejemplo.txt\", \"w\") as archivo:\n",
        "    archivo.write(\"Este es un ejemplo de escritura en un archivo.\\n\")\n",
        "\n",
        "# Leer de un archivo\n",
        "with open(\"archivo_ejemplo.txt\", \"r\") as archivo:\n",
        "    contenido = archivo.read()\n",
        "print(\"Contenido del archivo:\")\n",
        "print(contenido)\n",
        "\n",
        "# Anadir contenido a un archivo\n",
        "with open(\"archivo_ejemplo.txt\", \"a\") as archivo:\n",
        "    archivo.write(\"Este es una segunda linea\\n\")\n",
        "\n",
        "# Leer de un archivo\n",
        "with open(\"archivo_ejemplo.txt\", \"r\") as archivo:\n",
        "    contenido = archivo.read()\n",
        "\n",
        "print(\"Contenido del archivo:\")\n",
        "print(contenido)\n"
      ],
      "metadata": {
        "id": "ZWGa_AYU5jTB",
        "colab": {
          "base_uri": "https://localhost:8080/"
        },
        "outputId": "d4de9063-74ac-41de-d027-956c059257c2"
      },
      "execution_count": null,
      "outputs": [
        {
          "output_type": "stream",
          "name": "stdout",
          "text": [
            "Contenido del archivo:\n",
            "Este es un ejemplo de escritura en un archivo.\n",
            "\n",
            "Contenido del archivo:\n",
            "Este es un ejemplo de escritura en un archivo.\n",
            "Este es una segunda linea\n",
            "\n"
          ]
        }
      ]
    },
    {
      "cell_type": "code",
      "source": [
        "# Comprensiones de listas. Esto es conceptualmente dificil pero cuando se usan funcionan muy bien y muy eficientemente\n",
        "cuadrados = [x**2 for x in range(10)]\n",
        "print(cuadrados)\n",
        "\n",
        "# Uso de lambda y map\n",
        "nums = [1, 2, 3, 4, 5]\n",
        "dobles = list(map(lambda x: x*2, nums))\n",
        "print(dobles)\n",
        "\n"
      ],
      "metadata": {
        "id": "HgJK7bo75m2J",
        "colab": {
          "base_uri": "https://localhost:8080/"
        },
        "outputId": "7c9e4732-284c-4a20-9b7d-3b3a02cf56a8"
      },
      "execution_count": null,
      "outputs": [
        {
          "output_type": "stream",
          "name": "stdout",
          "text": [
            "[0, 1, 4, 9, 16, 25, 36, 49, 64, 81]\n",
            "[2, 4, 6, 8, 10]\n"
          ]
        }
      ]
    },
    {
      "cell_type": "code",
      "source": [
        "# Pintar graficas\n",
        "import matplotlib.pyplot as plt\n",
        "\n",
        "# Datos para las líneas\n",
        "x = [1, 2, 3, 4, 5]\n",
        "y1 = [2, 3, 5, 7, 11]  # Primera línea\n",
        "y2 = [1, 4, 9, 16, 25]  # Segunda línea\n",
        "y3 = [5, 4, 3, 2, 1]    # Tercera línea\n",
        "\n",
        "# Crear la figura y los ejes\n",
        "plt.figure(figsize=(8, 6))\n",
        "\n",
        "# Graficar las líneas con diferentes estilos\n",
        "plt.plot(x, y1, label=\"Línea 1 (Primos)\", color=\"blue\", linestyle=\"--\", marker=\"o\")\n",
        "plt.plot(x, y2, label=\"Línea 2 (Cuadrados)\", color=\"green\", linestyle=\":\", marker=\"s\")\n",
        "plt.plot(x, y3, label=\"Línea 3 (Decreciente)\", color=\"red\", linestyle=\"-.\", marker=\"^\")\n",
        "\n",
        "# Añadir título y etiquetas\n",
        "plt.title(\"Gráfico con múltiples líneas y estilos\", fontsize=16)\n",
        "plt.xlabel(\"Valores de X\", fontsize=12)\n",
        "plt.ylabel(\"Valores de Y\", fontsize=12)\n",
        "\n",
        "# Añadir una leyenda\n",
        "plt.legend(loc=\"upper left\")\n",
        "\n",
        "# Añadir cuadrícula\n",
        "plt.grid(True)\n",
        "\n",
        "# Ajustar los márgenes\n",
        "plt.tight_layout()\n",
        "\n",
        "# Mostrar el gráfico\n",
        "plt.show()\n",
        "\n"
      ],
      "metadata": {
        "id": "hRBI7tkT5ogY",
        "colab": {
          "base_uri": "https://localhost:8080/",
          "height": 607
        },
        "outputId": "5f37cb58-fcbe-4c4e-9964-f4508ec28e0b"
      },
      "execution_count": null,
      "outputs": [
        {
          "output_type": "display_data",
          "data": {
            "text/plain": [
              "<Figure size 800x600 with 1 Axes>"
            ],
            "image/png": "[encoded data removed]"
          },
          "metadata": {}
        }
      ]
    },
    {
      "cell_type": "code",
      "source": [
        "import pandas as pd\n",
        "\n",
        "# Crear un DataFrame más complejo\n",
        "datos = {\n",
        "    'Nombre': ['Ana', 'Juan', 'María', 'Pedro', 'Lucía', 'Carlos'],\n",
        "    'Edad': [22, 35, 28, 40, 30, 25],\n",
        "    'Ciudad': ['Madrid', 'Barcelona', 'Sevilla', 'Valencia', 'Madrid', 'Barcelona'],\n",
        "    'Salario': [2200, 3500, 2800, 4000, 3000, 2500]\n",
        "}\n",
        "df = pd.DataFrame(datos)\n",
        "\n",
        "# Mostrar el DataFrame\n",
        "print(\"DataFrame original:\")\n",
        "print(df)\n",
        "\n",
        "# Añadir una nueva columna calculada (e.g., Años hasta jubilación suponiendo 65 años como edad de jubilación)\n",
        "df['Años hasta jubilación'] = 65 - df['Edad']\n",
        "\n",
        "# Filtrar personas que viven en Madrid\n",
        "df_madrid = df[df['Ciudad'] == 'Madrid']\n",
        "print(\"\\nPersonas que viven en Madrid:\")\n",
        "print(df_madrid)\n",
        "\n",
        "# Calcular estadísticas descriptivas del salario\n",
        "salario_stats = df['Salario'].describe()\n",
        "print(\"\\nEstadísticas del salario:\")\n",
        "print(salario_stats)\n",
        "\n",
        "# Agrupar por ciudad y calcular la media de salarios y edades por ciudad\n",
        "grupo_ciudad = df.groupby('Ciudad').agg({'Edad': 'mean', 'Salario': 'mean'})\n",
        "print(\"\\nPromedio de edad y salario por ciudad:\")\n",
        "print(grupo_ciudad)\n",
        "\n",
        "# Ordenar el DataFrame por salario de forma descendente\n",
        "df_ordenado = df.sort_values(by='Salario', ascending=False)\n",
        "print(\"\\nDataFrame ordenado por salario (descendente):\")\n",
        "print(df_ordenado)\n",
        "\n",
        "# Aplicar una función personalizada para clasificar personas por edad\n",
        "def clasificar_edad(edad):\n",
        "    if edad < 30:\n",
        "        return 'Joven'\n",
        "    elif 30 <= edad < 40:\n",
        "        return 'Adulto'\n",
        "    else:\n",
        "        return 'Mayor'\n",
        "\n",
        "df['Clasificación de edad'] = df['Edad'].apply(clasificar_edad)\n",
        "print(\"\\nDataFrame con clasificación de edad:\")\n",
        "print(df)\n"
      ],
      "metadata": {
        "id": "g6HWl93-6Uqg",
        "colab": {
          "base_uri": "https://localhost:8080/"
        },
        "outputId": "fb69cc97-7ec5-4359-b17a-891f2a3ece06"
      },
      "execution_count": null,
      "outputs": [
        {
          "output_type": "stream",
          "name": "stdout",
          "text": [
            "DataFrame original:\n",
            "   Nombre  Edad     Ciudad  Salario\n",
            "0     Ana    22     Madrid     2200\n",
            "1    Juan    35  Barcelona     3500\n",
            "2   María    28    Sevilla     2800\n",
            "3   Pedro    40   Valencia     4000\n",
            "4   Lucía    30     Madrid     3000\n",
            "5  Carlos    25  Barcelona     2500\n",
            "\n",
            "Personas que viven en Madrid:\n",
            "  Nombre  Edad  Ciudad  Salario  Años hasta jubilación\n",
            "0    Ana    22  Madrid     2200                     43\n",
            "4  Lucía    30  Madrid     3000                     35\n",
            "\n",
            "Estadísticas del salario:\n",
            "count       6.000000\n",
            "mean     3000.000000\n",
            "std       660.302961\n",
            "min      2200.000000\n",
            "25%      2575.000000\n",
            "50%      2900.000000\n",
            "75%      3375.000000\n",
            "max      4000.000000\n",
            "Name: Salario, dtype: float64\n",
            "\n",
            "Promedio de edad y salario por ciudad:\n",
            "           Edad  Salario\n",
            "Ciudad                  \n",
            "Barcelona  30.0   3000.0\n",
            "Madrid     26.0   2600.0\n",
            "Sevilla    28.0   2800.0\n",
            "Valencia   40.0   4000.0\n",
            "\n",
            "DataFrame ordenado por salario (descendente):\n",
            "   Nombre  Edad     Ciudad  Salario  Años hasta jubilación\n",
            "3   Pedro    40   Valencia     4000                     25\n",
            "1    Juan    35  Barcelona     3500                     30\n",
            "4   Lucía    30     Madrid     3000                     35\n",
            "2   María    28    Sevilla     2800                     37\n",
            "5  Carlos    25  Barcelona     2500                     40\n",
            "0     Ana    22     Madrid     2200                     43\n",
            "\n",
            "DataFrame con clasificación de edad:\n",
            "   Nombre  Edad     Ciudad  Salario  Años hasta jubilación  \\\n",
            "0     Ana    22     Madrid     2200                     43   \n",
            "1    Juan    35  Barcelona     3500                     30   \n",
            "2   María    28    Sevilla     2800                     37   \n",
            "3   Pedro    40   Valencia     4000                     25   \n",
            "4   Lucía    30     Madrid     3000                     35   \n",
            "5  Carlos    25  Barcelona     2500                     40   \n",
            "\n",
            "  Clasificación de edad  \n",
            "0                 Joven  \n",
            "1                Adulto  \n",
            "2                 Joven  \n",
            "3                 Mayor  \n",
            "4                Adulto  \n",
            "5                 Joven  \n"
          ]
        }
      ]
    },
    {
      "cell_type": "code",
      "source": [
        "# Ejemplo de sobrecarga de operadores en Python\n",
        "class Punto:\n",
        "    def __init__(self, x, y):\n",
        "        \"\"\"Inicializa el punto con coordenadas x e y.\"\"\"\n",
        "        self.x = x\n",
        "        self.y = y\n",
        "\n",
        "    def __add__(self, otro):\n",
        "        \"\"\"Sobrecarga del operador + para sumar dos puntos.\"\"\"\n",
        "        return Punto(self.x + otro.x, self.y + otro.y)\n",
        "\n",
        "    def __sub__(self, otro):\n",
        "        \"\"\"Sobrecarga del operador - para restar dos puntos.\"\"\"\n",
        "        return Punto(self.x - otro.x, self.y - otro.y)\n",
        "\n",
        "    def __mul__(self, escalar):\n",
        "        \"\"\"Sobrecarga del operador * para multiplicar un punto por un escalar.\"\"\"\n",
        "        return Punto(self.x * escalar, self.y * escalar)\n",
        "\n",
        "    def __eq__(self, otro):\n",
        "        \"\"\"Sobrecarga del operador == para comparar si dos puntos son iguales.\"\"\"\n",
        "        return self.x == otro.x and self.y == otro.y\n",
        "\n",
        "    def __repr__(self):\n",
        "        \"\"\"Sobrecarga del método de representación para imprimir un punto.\"\"\"\n",
        "        return f\"Punto({self.x}, {self.y})\"\n",
        "\n",
        "# Crear instancias de la clase Punto\n",
        "p1 = Punto(1, 2)\n",
        "p2 = Punto(3, 4)\n",
        "\n",
        "# Sobrecarga del operador + (suma)\n",
        "p3 = p1 + p2\n",
        "print(f\"Suma de puntos: {p3}\")  # Debería mostrar Punto(4, 6)\n",
        "\n",
        "# Sobrecarga del operador - (resta)\n",
        "p4 = p1 - p2\n",
        "print(f\"Resta de puntos: {p4}\")  # Debería mostrar Punto(-2, -2)\n",
        "\n",
        "# Sobrecarga del operador * (multiplicación por escalar)\n",
        "p5 = p1 * 3\n",
        "print(f\"Multiplicación por escalar: {p5}\")  # Debería mostrar Punto(3, 6)\n",
        "\n",
        "# Sobrecarga del operador == (comparación de igualdad)\n",
        "p6 = Punto(1, 2)\n",
        "p7 = Punto(1, 2)\n",
        "es_igual = p6 == p7\n",
        "print(f\"¿Los puntos son iguales?: {es_igual}\")  # Debería mostrar True\n"
      ],
      "metadata": {
        "id": "32RDAGcM6WGl",
        "colab": {
          "base_uri": "https://localhost:8080/"
        },
        "outputId": "16a7c3c8-a32e-4e4a-9cf3-f20dce2d1906"
      },
      "execution_count": null,
      "outputs": [
        {
          "output_type": "stream",
          "name": "stdout",
          "text": [
            "(4, 6)\n"
          ]
        }
      ]
    },
    {
      "cell_type": "code",
      "source": [
        "# Pruebas simples con unittest\n",
        "import unittest\n",
        "\n",
        "def suma(a, b):\n",
        "    return a + b\n",
        "\n",
        "class TestSuma(unittest.TestCase):\n",
        "    def test_suma(self):\n",
        "        self.assertEqual(suma(1, 2), 3)\n",
        "\n",
        "if __name__ == \"__main__\":\n",
        "    unittest.main(argv=[''], exit=False)\n"
      ],
      "metadata": {
        "id": "vgaWCjct6Yfm"
      },
      "execution_count": null,
      "outputs": []
    },
    {
      "cell_type": "code",
      "source": [
        "def calcular_area(base, altura):\n",
        "    \"\"\"\n",
        "    Calcula el área de un triángulo dado su base y altura.\n",
        "\n",
        "    :param base: La base del triángulo (float).\n",
        "    :param altura: La altura del triángulo (float).\n",
        "    :return: El área calculada (float).\n",
        "    \"\"\"\n",
        "    return (base * altura) / 2\n"
      ],
      "metadata": {
        "id": "3DQgak686blb"
      },
      "execution_count": null,
      "outputs": []
    },
    {
      "cell_type": "code",
      "source": [
        "\n",
        "# Concurrencia y Paralelismo en Python\n",
        "\n",
        "import threading\n",
        "import time\n",
        "\n",
        "# Función que simula una tarea\n",
        "def tarea(nombre, duracion):\n",
        "    print(f\"Inicio de la tarea {nombre}\")\n",
        "    time.sleep(duracion)  # Simular una tarea que toma tiempo (duracion en segundos)\n",
        "    print(f\"Tarea {nombre} finalizada después de {duracion} segundos.\")\n",
        "\n",
        "# Crear varios hilos para ejecutar tareas en paralelo\n",
        "hilos = []\n",
        "for i in range(5):  # Crear 5 hilos\n",
        "    hilo = threading.Thread(target=tarea, args=(f\"Hilo-{i+1}\", i+1))\n",
        "    hilos.append(hilo)\n",
        "    hilo.start()  # Iniciar el hilo\n",
        "\n",
        "# Esperar a que todos los hilos terminen\n",
        "for hilo in hilos:\n",
        "    hilo.join()\n",
        "\n",
        "print(\"Todas las tareas han finalizado.\")"
      ],
      "metadata": {
        "id": "gTJcb8TzOvBH",
        "colab": {
          "base_uri": "https://localhost:8080/"
        },
        "outputId": "64d55353-8501-4614-f575-290077ac60f6"
      },
      "execution_count": 20,
      "outputs": [
        {
          "output_type": "stream",
          "name": "stdout",
          "text": [
            "Inicio de la tarea Hilo-1\n",
            "Inicio de la tarea Hilo-2\n",
            "Inicio de la tarea Hilo-3\n",
            "Inicio de la tarea Hilo-4\n",
            "Inicio de la tarea Hilo-5\n",
            "Tarea Hilo-1 finalizada después de 1 segundos.\n",
            "Tarea Hilo-2 finalizada después de 2 segundos.\n",
            "Tarea Hilo-3 finalizada después de 3 segundos.\n",
            "Tarea Hilo-4 finalizada después de 4 segundos.\n",
            "Tarea Hilo-5 finalizada después de 5 segundos.\n",
            "Todas las tareas han finalizado.\n"
          ]
        }
      ]
    },
    {
      "cell_type": "code",
      "source": [],
      "metadata": {
        "id": "GGrQwaZrPpc8"
      },
      "execution_count": null,
      "outputs": []
    }
  ]
}